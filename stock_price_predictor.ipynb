{
 "cells": [
  {
   "cell_type": "markdown",
   "id": "2b559988",
   "metadata": {},
   "source": [
    "# 📈 Stock Price Predictor using Linear Regression"
   ]
  },
  {
   "cell_type": "code",
   "execution_count": null,
   "id": "486b4ad2",
   "metadata": {},
   "outputs": [],
   "source": [
    "\n",
    "import pandas as pd\n",
    "import matplotlib.pyplot as plt\n",
    "from sklearn.model_selection import train_test_split\n",
    "from sklearn.linear_model import LinearRegression\n",
    "from sklearn.metrics import mean_squared_error\n"
   ]
  },
  {
   "cell_type": "code",
   "execution_count": null,
   "id": "af0c8eb9",
   "metadata": {},
   "outputs": [],
   "source": [
    "# Load dataset\n",
    "data = pd.read_csv('dummy_stock_data.csv')\n",
    "data.head()"
   ]
  },
  {
   "cell_type": "code",
   "execution_count": null,
   "id": "3c1e2a82",
   "metadata": {},
   "outputs": [],
   "source": [
    "\n",
    "# Prepare features and labels\n",
    "future_days = 5\n",
    "data['Prediction'] = data['Price'].shift(-future_days)\n",
    "X = data[['Price']][:-future_days]\n",
    "y = data['Prediction'][:-future_days]\n",
    "\n",
    "# Split the data\n",
    "X_train, X_test, y_train, y_test = train_test_split(X, y, test_size=0.2, random_state=42)\n"
   ]
  },
  {
   "cell_type": "code",
   "execution_count": null,
   "id": "e6d6c833",
   "metadata": {},
   "outputs": [],
   "source": [
    "\n",
    "# Train the model\n",
    "model = LinearRegression()\n",
    "model.fit(X_train, y_train)\n"
   ]
  },
  {
   "cell_type": "code",
   "execution_count": null,
   "id": "2bef673d",
   "metadata": {},
   "outputs": [],
   "source": [
    "\n",
    "# Predict and plot\n",
    "predictions = model.predict(X_test)\n",
    "plt.figure(figsize=(10,6))\n",
    "plt.plot(range(len(y_test)), y_test.values, label='Actual', color='blue', linestyle='--', linewidth=2)\n",
    "plt.plot(range(len(predictions)), predictions, label='Predicted', color='orange', linestyle='-', linewidth=2)\n",
    "plt.legend()\n",
    "plt.title('Actual vs Predicted Prices')\n",
    "plt.xlabel('Days')\n",
    "plt.ylabel('Price')\n",
    "plt.grid()\n",
    "plt.show()\n"
   ]
  },
  {
   "cell_type": "code",
   "execution_count": null,
   "id": "db6bf93c",
   "metadata": {},
   "outputs": [],
   "source": [
    "\n",
    "# Print RMSE\n",
    "rmse = mean_squared_error(y_test, predictions, squared=False)\n",
    "print(\"Root Mean Squared Error:\", rmse)\n"
   ]
  }
 ],
 "metadata": {},
 "nbformat": 4,
 "nbformat_minor": 5
}
